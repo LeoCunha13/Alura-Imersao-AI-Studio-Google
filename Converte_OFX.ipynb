{
  "nbformat": 4,
  "nbformat_minor": 0,
  "metadata": {
    "colab": {
      "provenance": [],
      "authorship_tag": "ABX9TyN3AyqomK3UkWXr12HRj5/0",
      "include_colab_link": true
    },
    "kernelspec": {
      "name": "python3",
      "display_name": "Python 3"
    },
    "language_info": {
      "name": "python"
    }
  },
  "cells": [
    {
      "cell_type": "markdown",
      "metadata": {
        "id": "view-in-github",
        "colab_type": "text"
      },
      "source": [
        "<a href=\"https://colab.research.google.com/github/LeoCunha13/Imersao_Alura/blob/main/Converte_OFX.ipynb\" target=\"_parent\"><img src=\"https://colab.research.google.com/assets/colab-badge.svg\" alt=\"Open In Colab\"/></a>"
      ]
    },
    {
      "cell_type": "code",
      "execution_count": 172,
      "metadata": {
        "id": "Qd-kvP5H0faU"
      },
      "outputs": [],
      "source": [
        "import uuid\n",
        "from datetime import datetime, timedelta\n",
        "import re\n",
        "\n",
        "def gerar_ofx(nome_arquivo_txt):\n",
        "    \"\"\"Converte um arquivo TXT com informações de extrato em um arquivo OFX.\n",
        "\n",
        "    Args:\n",
        "        nome_arquivo_txt (str): O nome do arquivo TXT contendo as informações do extrato.\n",
        "\n",
        "    Returns:\n",
        "        str: O conteúdo do arquivo OFX.\n",
        "    \"\"\"\n",
        "\n",
        "    # Lê o conteúdo do arquivo TXT, especificando a codificação.\n",
        "    with open(nome_arquivo_txt, \"r\", encoding=\"ISO-8859-1\") as f:  # Use a codificação correta aqui!\n",
        "        texto = f.read()\n",
        "\n",
        "    # Define a data de \"Ontem\" como o dia anterior à data atual.\n",
        "    ontem = datetime.now() - timedelta(days=1)\n",
        "    ontem_str = ontem.strftime(\"%Y%m%d\")\n",
        "\n",
        "    # Extrai as informações relevantes do texto.\n",
        "    transacoes = extrair_transacoes(texto, ontem)\n",
        "\n",
        "    # Define as datas de início e fim do extrato.\n",
        "    dtstart = min(t['DTPOSTED'] for t in transacoes) if transacoes else ontem_str + \"000000[-3:GMT]\"\n",
        "    dtend = max(t['DTPOSTED'] for t in transacoes) if transacoes else ontem_str + \"000000[-3:GMT]\"\n",
        "\n",
        "    # Cria o conteúdo do arquivo OFX.\n",
        "    ofx = f\"\"\"OFXHEADER:100\n",
        "            DATA:OFXSGML\n",
        "            VERSION:102\n",
        "            SECURITY:NONE\n",
        "            ENCODING:USASCII\n",
        "            CHARSET:1252\n",
        "            COMPRESSION:NONE\n",
        "            OLDFILEUID:NONE\n",
        "            NEWFILEUID:NONE\n",
        "            <OFX>\n",
        "            <SIGNONMSGSRSV1>\n",
        "            <SONRS>\n",
        "            <STATUS>\n",
        "            <CODE>0\n",
        "            <SEVERITY>INFO\n",
        "            </STATUS>\n",
        "            <DTSERVER>{ontem}000000[-3:GMT]\n",
        "            <LANGUAGE>POR\n",
        "            </SONRS>\n",
        "            </SIGNONMSGSRSV1>\n",
        "            <CREDITCARDMSGSRSV1>\n",
        "            <CCSTMTTRNRS>\n",
        "            <TRNUID>1001\n",
        "            <STATUS>\n",
        "            <CODE>0\n",
        "            <SEVERITY>INFO\n",
        "            </STATUS>\n",
        "            <CCSTMTRS>\n",
        "            <CURDEF>BRL\n",
        "            <CCACCTFROM>\n",
        "            <ACCTID>5ca617c7-d250-4ce9-ae0a-d3126907d00b\n",
        "            </CCACCTFROM>\n",
        "            <BANKTRANLIST>\n",
        "            <DTSTART>{dtstart}\n",
        "            <DTEND>{dtend}\n",
        "            \"\"\"\n",
        "\n",
        "    for transacao in transacoes:\n",
        "        ofx += f\"\"\"\n",
        "              <STMTTRN>\n",
        "              <TRNTYPE>{transacao['TRNTYPE']}\n",
        "              <DTPOSTED>{transacao['DTPOSTED']}\n",
        "              <TRNAMT>{transacao['TRNAMT']}\n",
        "              <FITID>{transacao['FITID']}\n",
        "              <MEMO>{transacao['MEMO']}\n",
        "              </STMTTRN>\n",
        "              \"\"\"\n",
        "\n",
        "    return ofx\n",
        "\n",
        "\n"
      ]
    },
    {
      "cell_type": "code",
      "source": [
        "import uuid\n",
        "from datetime import datetime, timedelta\n",
        "import re\n",
        "\n",
        "def extrair_transacoes(texto, ontem):\n",
        "    \"\"\"Extrai as transações do texto, considerando a estrutura fornecida.\n",
        "\n",
        "    Args:\n",
        "        texto (str): O texto contendo as informações do extrato.\n",
        "        ontem (datetime): A data de referência para \"Ontem\".\n",
        "\n",
        "    Returns:\n",
        "        list: Uma lista de dicionários representando as transações.\n",
        "    \"\"\"\n",
        "\n",
        "    transacoes = []\n",
        "\n",
        "    texto = texto.strip()\n",
        "    linhas = [linha for linha in texto.split(\"\\n\") if linha.strip() != \"\"]\n",
        "\n",
        "    dias_da_semana = [\"Segunda\", \"Terça\", \"Quarta\", \"Quinta\", \"Sexta\", \"Sábado\", \"Domingo\"]\n",
        "    meses = {\"MAI\": 5, \"JUN\": 6, \"JUL\": 7, \"AGO\": 8, \"SET\": 9, \"OUT\": 10, \"NOV\": 11, \"DEZ\": 12}\n",
        "\n",
        "    dias_map = {dia: (ontem - timedelta(days=(ontem.weekday() - i) % 7)).strftime(\"%Y%m%d\")\n",
        "                 for i, dia in enumerate(dias_da_semana)}\n",
        "\n",
        "    dia_atual = None\n",
        "    mes_atual = None\n",
        "    for linha in linhas:\n",
        "        # Ignora as linhas contendo \"Saldo em atraso\" e \"Crédito de atraso\".\n",
        "        if \"Saldo em atraso\" in linha or \"Crédito de atraso\" in linha:\n",
        "            continue\n",
        "\n",
        "        # Verifica se a linha contém um dia da semana.\n",
        "        for dia in dias_da_semana:\n",
        "            if linha.startswith(dia):\n",
        "                dia_atual = dias_map[dia]\n",
        "                break\n",
        "\n",
        "        # Verifica se a linha contém um mês abreviado.\n",
        "        for mes_abrev, mes_num in meses.items():\n",
        "            if mes_abrev in linha:\n",
        "                mes_atual = mes_num\n",
        "                partes = linha.split(mes_abrev)\n",
        "                dia_atual = int(partes[0].strip())\n",
        "                ano_atual = ontem.year  # Considera o ano atual como referência\n",
        "                dia_atual = datetime(ano_atual, mes_atual, dia_atual).strftime(\"%Y%m%d\")\n",
        "                break\n",
        "\n",
        "        # Se encontrou um dia ou um mês, tenta extrair a transação.\n",
        "\n",
        "        if dia_atual:\n",
        "            partes = linha.split(\"R$\")\n",
        "            print(partes[0].strip())\n",
        "            descricao = partes[0].strip()\n",
        "            valor = float(partes[1].strip().replace(\".\", \"\").replace(\",\", \".\"))\n",
        "            transacoes.append({\n",
        "                    \"TRNTYPE\": \"DEBIT\",\n",
        "                    \"DTPOSTED\": f\"{dia_atual}000000[-3:GMT]\",\n",
        "                    \"TRNAMT\": f\"{-valor:.2f}\",\n",
        "                    \"FITID\": \"\",\n",
        "                    \"MEMO\": descricao\n",
        "                })\n",
        "\n",
        "    return transacoes"
      ],
      "metadata": {
        "id": "GDnioXZI0tiR"
      },
      "execution_count": 192,
      "outputs": []
    },
    {
      "cell_type": "code",
      "source": [
        "# ... (código das funções)\n",
        "\n",
        "# Define o nome do arquivo TXT.\n",
        "nome_arquivo_txt = \"extrato.txt\"\n",
        "\n",
        "# Chama a função gerar_ofx() com o nome do arquivo TXT.\n",
        "conteudo_ofx = gerar_ofx(nome_arquivo_txt)\n",
        "\n",
        "# Define o nome do arquivo OFX de saída.\n",
        "nome_arquivo_ofx = \"extrato_formatado.ofx\"\n",
        "\n",
        "# Salva o conteúdo em um arquivo OFX.\n",
        "with open(nome_arquivo_ofx, \"w\") as f:\n",
        "    f.write(conteudo_ofx)\n",
        "\n",
        "print(f\"Arquivo OFX gerado com sucesso: {nome_arquivo_ofx}\")"
      ],
      "metadata": {
        "colab": {
          "base_uri": "https://localhost:8080/",
          "height": 373
        },
        "id": "ysnqmNoC4Rax",
        "outputId": "ec788ffe-a685-473a-db3a-8414be3db34e"
      },
      "execution_count": 193,
      "outputs": [
        {
          "output_type": "stream",
          "name": "stdout",
          "text": [
            "2 JUN\n"
          ]
        },
        {
          "output_type": "error",
          "ename": "IndexError",
          "evalue": "list index out of range",
          "traceback": [
            "\u001b[0;31m---------------------------------------------------------------------------\u001b[0m",
            "\u001b[0;31mIndexError\u001b[0m                                Traceback (most recent call last)",
            "\u001b[0;32m<ipython-input-193-6accdbc5cffb>\u001b[0m in \u001b[0;36m<cell line: 7>\u001b[0;34m()\u001b[0m\n\u001b[1;32m      5\u001b[0m \u001b[0;34m\u001b[0m\u001b[0m\n\u001b[1;32m      6\u001b[0m \u001b[0;31m# Chama a função gerar_ofx() com o nome do arquivo TXT.\u001b[0m\u001b[0;34m\u001b[0m\u001b[0;34m\u001b[0m\u001b[0m\n\u001b[0;32m----> 7\u001b[0;31m \u001b[0mconteudo_ofx\u001b[0m \u001b[0;34m=\u001b[0m \u001b[0mgerar_ofx\u001b[0m\u001b[0;34m(\u001b[0m\u001b[0mnome_arquivo_txt\u001b[0m\u001b[0;34m)\u001b[0m\u001b[0;34m\u001b[0m\u001b[0;34m\u001b[0m\u001b[0m\n\u001b[0m\u001b[1;32m      8\u001b[0m \u001b[0;34m\u001b[0m\u001b[0m\n\u001b[1;32m      9\u001b[0m \u001b[0;31m# Define o nome do arquivo OFX de saída.\u001b[0m\u001b[0;34m\u001b[0m\u001b[0;34m\u001b[0m\u001b[0m\n",
            "\u001b[0;32m<ipython-input-172-9718335f4aab>\u001b[0m in \u001b[0;36mgerar_ofx\u001b[0;34m(nome_arquivo_txt)\u001b[0m\n\u001b[1;32m     22\u001b[0m \u001b[0;34m\u001b[0m\u001b[0m\n\u001b[1;32m     23\u001b[0m     \u001b[0;31m# Extrai as informações relevantes do texto.\u001b[0m\u001b[0;34m\u001b[0m\u001b[0;34m\u001b[0m\u001b[0m\n\u001b[0;32m---> 24\u001b[0;31m     \u001b[0mtransacoes\u001b[0m \u001b[0;34m=\u001b[0m \u001b[0mextrair_transacoes\u001b[0m\u001b[0;34m(\u001b[0m\u001b[0mtexto\u001b[0m\u001b[0;34m,\u001b[0m \u001b[0montem\u001b[0m\u001b[0;34m)\u001b[0m\u001b[0;34m\u001b[0m\u001b[0;34m\u001b[0m\u001b[0m\n\u001b[0m\u001b[1;32m     25\u001b[0m \u001b[0;34m\u001b[0m\u001b[0m\n\u001b[1;32m     26\u001b[0m     \u001b[0;31m# Define as datas de início e fim do extrato.\u001b[0m\u001b[0;34m\u001b[0m\u001b[0;34m\u001b[0m\u001b[0m\n",
            "\u001b[0;32m<ipython-input-192-4fec3f39d169>\u001b[0m in \u001b[0;36mextrair_transacoes\u001b[0;34m(texto, ontem)\u001b[0m\n\u001b[1;32m     54\u001b[0m             \u001b[0mprint\u001b[0m\u001b[0;34m(\u001b[0m\u001b[0mpartes\u001b[0m\u001b[0;34m[\u001b[0m\u001b[0;36m0\u001b[0m\u001b[0;34m]\u001b[0m\u001b[0;34m.\u001b[0m\u001b[0mstrip\u001b[0m\u001b[0;34m(\u001b[0m\u001b[0;34m)\u001b[0m\u001b[0;34m)\u001b[0m\u001b[0;34m\u001b[0m\u001b[0;34m\u001b[0m\u001b[0m\n\u001b[1;32m     55\u001b[0m             \u001b[0mdescricao\u001b[0m \u001b[0;34m=\u001b[0m \u001b[0mpartes\u001b[0m\u001b[0;34m[\u001b[0m\u001b[0;36m0\u001b[0m\u001b[0;34m]\u001b[0m\u001b[0;34m.\u001b[0m\u001b[0mstrip\u001b[0m\u001b[0;34m(\u001b[0m\u001b[0;34m)\u001b[0m\u001b[0;34m\u001b[0m\u001b[0;34m\u001b[0m\u001b[0m\n\u001b[0;32m---> 56\u001b[0;31m             \u001b[0mvalor\u001b[0m \u001b[0;34m=\u001b[0m \u001b[0mfloat\u001b[0m\u001b[0;34m(\u001b[0m\u001b[0mpartes\u001b[0m\u001b[0;34m[\u001b[0m\u001b[0;36m1\u001b[0m\u001b[0;34m]\u001b[0m\u001b[0;34m.\u001b[0m\u001b[0mstrip\u001b[0m\u001b[0;34m(\u001b[0m\u001b[0;34m)\u001b[0m\u001b[0;34m.\u001b[0m\u001b[0mreplace\u001b[0m\u001b[0;34m(\u001b[0m\u001b[0;34m\".\"\u001b[0m\u001b[0;34m,\u001b[0m \u001b[0;34m\"\"\u001b[0m\u001b[0;34m)\u001b[0m\u001b[0;34m.\u001b[0m\u001b[0mreplace\u001b[0m\u001b[0;34m(\u001b[0m\u001b[0;34m\",\"\u001b[0m\u001b[0;34m,\u001b[0m \u001b[0;34m\".\"\u001b[0m\u001b[0;34m)\u001b[0m\u001b[0;34m)\u001b[0m\u001b[0;34m\u001b[0m\u001b[0;34m\u001b[0m\u001b[0m\n\u001b[0m\u001b[1;32m     57\u001b[0m             transacoes.append({\n\u001b[1;32m     58\u001b[0m                     \u001b[0;34m\"TRNTYPE\"\u001b[0m\u001b[0;34m:\u001b[0m \u001b[0;34m\"DEBIT\"\u001b[0m\u001b[0;34m,\u001b[0m\u001b[0;34m\u001b[0m\u001b[0;34m\u001b[0m\u001b[0m\n",
            "\u001b[0;31mIndexError\u001b[0m: list index out of range"
          ]
        }
      ]
    }
  ]
}