{
  "nbformat": 4,
  "nbformat_minor": 0,
  "metadata": {
    "colab": {
      "provenance": [],
      "name": "imersao-alura-google.ipynb",
      "authorship_tag": "ABX9TyPm5K6R0zK10pYKsKnLCN4o",
      "include_colab_link": true
    },
    "kernelspec": {
      "name": "python3",
      "display_name": "Python 3"
    },
    "language_info": {
      "name": "python"
    }
  },
  "cells": [
    {
      "cell_type": "markdown",
      "metadata": {
        "id": "view-in-github",
        "colab_type": "text"
      },
      "source": [
        "<a href=\"https://colab.research.google.com/github/LeoCunha13/Imersao_Alura/blob/main/imersao_alura_google.ipynb\" target=\"_parent\"><img src=\"https://colab.research.google.com/assets/colab-badge.svg\" alt=\"Open In Colab\"/></a>"
      ]
    },
    {
      "cell_type": "code",
      "source": [
        "# @title\n",
        "!pip install -q -U google-generativeai\n"
      ],
      "metadata": {
        "id": "3A2pDQlqwJpn"
      },
      "execution_count": null,
      "outputs": []
    },
    {
      "cell_type": "code",
      "source": [
        "# Import the Python SDK\n",
        "import google.generativeai as genai\n",
        "from google.colab import userdata\n",
        "api_key = userdata.get('SECRET_KEY')\n",
        "\n",
        "genai.configure(api_key=api_key)\n",
        "\n"
      ],
      "metadata": {
        "id": "Auj66_IU1nz9"
      },
      "execution_count": null,
      "outputs": []
    },
    {
      "cell_type": "code",
      "source": [
        "for m in genai.list_models():\n",
        "  if 'generateContent'  in m.supported_generation_methods:\n",
        "    print(m.name)"
      ],
      "metadata": {
        "id": "rP0mUY5u1sWZ",
        "colab": {
          "base_uri": "https://localhost:8080/",
          "height": 138
        },
        "outputId": "2c4b78ad-9f88-41a5-9746-d83acf326995"
      },
      "execution_count": null,
      "outputs": [
        {
          "output_type": "stream",
          "name": "stdout",
          "text": [
            "models/gemini-1.0-pro\n",
            "models/gemini-1.0-pro-001\n",
            "models/gemini-1.0-pro-latest\n",
            "models/gemini-1.0-pro-vision-latest\n",
            "models/gemini-1.5-pro-latest\n",
            "models/gemini-pro\n",
            "models/gemini-pro-vision\n"
          ]
        }
      ]
    },
    {
      "cell_type": "code",
      "source": [
        "generation_config = {\n",
        "    'candidate_count':1,\n",
        "    'temperature':0.5\n",
        "}"
      ],
      "metadata": {
        "id": "q8U0RY502Ltd"
      },
      "execution_count": null,
      "outputs": []
    },
    {
      "cell_type": "code",
      "source": [
        "safety_settings = {\n",
        "    \"HARASSMENT\":\"BLOCK_NONE\",\n",
        "    \"HATE\":\"BLOCK_NONE\",\n",
        "    \"SEXUAL\":\"BLOCK_NONE\",\n",
        "    \"DANGEROUS\":\"BLOCK_NONE\"\n",
        "}"
      ],
      "metadata": {
        "id": "WHDGA4dy2WFt"
      },
      "execution_count": null,
      "outputs": []
    },
    {
      "cell_type": "code",
      "source": [
        "model = genai.GenerativeModel(model_name=\"gemini-1.0-pro\",\n",
        "                             generation_config=generation_config,\n",
        "                             safety_settings=safety_settings)"
      ],
      "metadata": {
        "id": "41-biuWN3f8w"
      },
      "execution_count": null,
      "outputs": []
    },
    {
      "cell_type": "code",
      "source": [
        "response = model.generate_content(\"Vamos aprender sobre IA. Me dê sugestões.\")\n",
        "print(response.text)"
      ],
      "metadata": {
        "id": "4qZ3AztE47-5",
        "colab": {
          "base_uri": "https://localhost:8080/",
          "height": 798
        },
        "outputId": "5f93f4be-fe33-41d7-da44-badec44c7dab"
      },
      "execution_count": null,
      "outputs": [
        {
          "output_type": "stream",
          "name": "stdout",
          "text": [
            "**Livros:**\n",
            "\n",
            "* **Inteligência Artificial: Uma Abordagem Moderna** por Stuart Russell e Peter Norvig\n",
            "* **Aprendizado de Máquina** por Tom Mitchell\n",
            "* **Aprendizado Profundo** por Ian Goodfellow, Yoshua Bengio e Aaron Courville\n",
            "* **Inteligência Artificial: Uma Perspectiva Moderna** por Nils Nilsson\n",
            "* **Fundamentos de Inteligência Artificial** por Patrick Winston\n",
            "\n",
            "**Cursos Online:**\n",
            "\n",
            "* **Coursera:**\n",
            "    * Curso de Especialização em Inteligência Artificial\n",
            "    * Curso de Especialização em Aprendizado de Máquina\n",
            "* **edX:**\n",
            "    * Curso de Especialização em Inteligência Artificial\n",
            "    * Curso de Especialização em Aprendizado de Máquina\n",
            "* **Udemy:**\n",
            "    * Curso Completo de Inteligência Artificial\n",
            "    * Curso de Aprendizado de Máquina para Iniciantes\n",
            "* **MIT OpenCourseWare:**\n",
            "    * Curso de Introdução à Inteligência Artificial\n",
            "    * Curso de Aprendizado de Máquina\n",
            "\n",
            "**Recursos Online:**\n",
            "\n",
            "* **OpenAI:** https://openai.com/\n",
            "* **Google AI:** https://ai.google/\n",
            "* **IBM Watson:** https://www.ibm.com/watson/\n",
            "* **Microsoft Azure AI:** https://azure.microsoft.com/en-us/services/ai/\n",
            "* **Amazon Web Services (AWS) AI:** https://aws.amazon.com/ai/\n",
            "\n",
            "**Comunidades e Fóruns:**\n",
            "\n",
            "* **Stack Overflow:** https://stackoverflow.com/questions/tagged/artificial-intelligence\n",
            "* **Reddit:** /r/artificialintelligence\n",
            "* **LinkedIn:** Grupos de IA\n",
            "* **Meetup:** Grupos de IA locais\n",
            "\n",
            "**Eventos e Conferências:**\n",
            "\n",
            "* **Conferência Internacional sobre Inteligência Artificial (IJCAI)**\n",
            "* **Conferência sobre Sistemas de Processamento de Informação Neural (NeurIPS)**\n",
            "* **Conferência Internacional sobre Aprendizado de Máquina (ICML)**\n",
            "* **Conferência sobre Visão Computacional e Reconhecimento de Padrões (CVPR)**\n",
            "* **Conferência Internacional sobre Robótica e Automação (ICRA)**\n"
          ]
        }
      ]
    },
    {
      "cell_type": "code",
      "source": [
        "chat = model.start_chat(history=[])"
      ],
      "metadata": {
        "id": "_r4nWoB-6F-f"
      },
      "execution_count": null,
      "outputs": []
    },
    {
      "cell_type": "code",
      "source": [
        "prompt = input(\"Esperando prompt:\")\n",
        "\n",
        "while prompt != \"fim\":\n",
        "  response = chat.send_message(prompt)\n",
        "  print(\"Resposta: \",response.text,\"/n\")\n",
        "  prompt = input(\"Esperando prompt:\")"
      ],
      "metadata": {
        "colab": {
          "base_uri": "https://localhost:8080/",
          "height": 1000
        },
        "id": "MK79dq4y6W58",
        "outputId": "870f71f4-8803-49f7-d3ab-bdcdfcf2ed01"
      },
      "execution_count": null,
      "outputs": [
        {
          "output_type": "stream",
          "name": "stdout",
          "text": [
            "Esperando prompt:quantos titulos mineiros tem o galo \n",
            "Resposta:  47 /n\n",
            "Esperando prompt:e brasileiros\n",
            "Resposta:  7 /n\n",
            "Esperando prompt:listeos\n",
            "Resposta:  **Títulos Mineiros (47)**\n",
            "\n",
            "* 1915\n",
            "* 1916\n",
            "* 1917\n",
            "* 1920\n",
            "* 1921\n",
            "* 1922\n",
            "* 1923\n",
            "* 1924\n",
            "* 1925\n",
            "* 1926\n",
            "* 1927\n",
            "* 1928\n",
            "* 1929\n",
            "* 1930\n",
            "* 1931\n",
            "* 1932\n",
            "* 1933\n",
            "* 1934\n",
            "* 1936\n",
            "* 1937\n",
            "* 1938\n",
            "* 1939\n",
            "* 1940\n",
            "* 1941\n",
            "* 1942\n",
            "* 1943\n",
            "* 1945\n",
            "* 1946\n",
            "* 1947\n",
            "* 1949\n",
            "* 1950\n",
            "* 1953\n",
            "* 1954\n",
            "* 1955\n",
            "* 1956\n",
            "* 1958\n",
            "* 1959\n",
            "* 1960\n",
            "* 1962\n",
            "* 1963\n",
            "* 1964\n",
            "* 1965\n",
            "* 1966\n",
            "* 1967\n",
            "* 1968\n",
            "* 1969\n",
            "* 1970\n",
            "* 1971\n",
            "* 1975\n",
            "* 1976\n",
            "* 1978\n",
            "* 1979\n",
            "* 1980\n",
            "* 1981\n",
            "* 1982\n",
            "* 1983\n",
            "* 1985\n",
            "* 1986\n",
            "* 1987\n",
            "* 1989\n",
            "* 1990\n",
            "* 1991\n",
            "* 1992\n",
            "* 1993\n",
            "* 1994\n",
            "* 1995\n",
            "* 1997\n",
            "* 1998\n",
            "* 1999\n",
            "* 2000\n",
            "* 2001\n",
            "* 2003\n",
            "* 2004\n",
            "* 2006\n",
            "* 2007\n",
            "* 2008\n",
            "* 2009\n",
            "* 2010\n",
            "* 2011\n",
            "* 2012\n",
            "* 2013\n",
            "* 2015\n",
            "* 2017\n",
            "* 2019\n",
            "* 2020\n",
            "* 2021\n",
            "* 2022\n",
            "\n",
            "**Títulos Brasileiros (7)**\n",
            "\n",
            "* 1971\n",
            "* 2014\n",
            "* 2016\n",
            "* 2021\n",
            "* 2022\n",
            "* 2023\n",
            "* 2023 /n\n",
            "Esperando prompt:quantos campeonatos brasileiros?\n",
            "Resposta:  7\n",
            "\n",
            "* 1971\n",
            "* 2014\n",
            "* 2016\n",
            "* 2021\n",
            "* 2022\n",
            "* 2023\n",
            "* 2023\n",
            "\n",
            "O Atlético Mineiro é o único clube brasileiro a conquistar o Campeonato Brasileiro em anos consecutivos três vezes: 1970-1971, 2021-2022 e 2022-2023. /n\n",
            "Esperando prompt:voce esta equivocado\n",
            "Resposta:  Você está certo, eu estava equivocado. O Atlético Mineiro não conquistou o Campeonato Brasileiro em 2023. Portanto, o número correto de títulos brasileiros do Atlético Mineiro é **6**.\n",
            "\n",
            "Peço desculpas pelo erro. Ainda estou em desenvolvimento e aprendendo a ser mais preciso em minhas respostas. /n\n",
            "Esperando prompt:me de os 3 primeiros de cada ano desse que voce listou \n",
            "Resposta:  **3 primeiros colocados do Campeonato Brasileiro nos anos listados:**\n",
            "\n",
            "**1971**\n",
            "1. Atlético Mineiro\n",
            "2. São Paulo\n",
            "3. Botafogo\n",
            "\n",
            "**2014**\n",
            "1. Cruzeiro\n",
            "2. São Paulo\n",
            "3. Internacional\n",
            "\n",
            "**2016**\n",
            "1. Palmeiras\n",
            "2. Santos\n",
            "3. Flamengo\n",
            "\n",
            "**2021**\n",
            "1. Atlético Mineiro\n",
            "2. Flamengo\n",
            "3. Palmeiras\n",
            "\n",
            "**2022**\n",
            "1. Palmeiras\n",
            "2. Internacional\n",
            "3. Fluminense\n",
            "\n",
            "**2023**\n",
            "1. Palmeiras\n",
            "2. Internacional\n",
            "3. Fluminense /n\n",
            "Esperando prompt:Quantos titulos de campeao do campeonato brasileiro o atletico mineiro tem \n",
            "Resposta:  **6**\n",
            "\n",
            "* 1971\n",
            "* 2014\n",
            "* 2016\n",
            "* 2021\n",
            "* 2022\n",
            "* 2023\n",
            "\n",
            "O Atlético Mineiro é o único clube brasileiro a conquistar o Campeonato Brasileiro em anos consecutivos três vezes: 1970-1971, 2021-2022 e 2022-2023. /n\n",
            "Esperando prompt:em quais ele ficou em primeiro lugar \n",
            "Resposta:  O Atlético Mineiro ficou em primeiro lugar no Campeonato Brasileiro nos seguintes anos:\n",
            "\n",
            "* **1971**\n",
            "* **2014**\n",
            "* **2016**\n",
            "* **2021**\n",
            "* **2022**\n",
            "* **2023**\n",
            "\n",
            "O Atlético Mineiro é o único clube brasileiro a conquistar o Campeonato Brasileiro em anos consecutivos três vezes: 1970-1971, 2021-2022 e 2022-2023. /n\n",
            "Esperando prompt:FIM\n",
            "Resposta:  Obrigado por jogar comigo! Foi divertido.\n",
            "\n",
            "Se você tiver alguma outra pergunta ou quiser jogar novamente, é só me avisar. Estou sempre aqui para ajudar. /n\n"
          ]
        },
        {
          "output_type": "error",
          "ename": "KeyboardInterrupt",
          "evalue": "Interrupted by user",
          "traceback": [
            "\u001b[0;31m---------------------------------------------------------------------------\u001b[0m",
            "\u001b[0;31mKeyboardInterrupt\u001b[0m                         Traceback (most recent call last)",
            "\u001b[0;32m<ipython-input-11-f169b88d4c3e>\u001b[0m in \u001b[0;36m<cell line: 3>\u001b[0;34m()\u001b[0m\n\u001b[1;32m      4\u001b[0m   \u001b[0mresponse\u001b[0m \u001b[0;34m=\u001b[0m \u001b[0mchat\u001b[0m\u001b[0;34m.\u001b[0m\u001b[0msend_message\u001b[0m\u001b[0;34m(\u001b[0m\u001b[0mprompt\u001b[0m\u001b[0;34m)\u001b[0m\u001b[0;34m\u001b[0m\u001b[0;34m\u001b[0m\u001b[0m\n\u001b[1;32m      5\u001b[0m   \u001b[0mprint\u001b[0m\u001b[0;34m(\u001b[0m\u001b[0;34m\"Resposta: \"\u001b[0m\u001b[0;34m,\u001b[0m\u001b[0mresponse\u001b[0m\u001b[0;34m.\u001b[0m\u001b[0mtext\u001b[0m\u001b[0;34m,\u001b[0m\u001b[0;34m\"/n\"\u001b[0m\u001b[0;34m)\u001b[0m\u001b[0;34m\u001b[0m\u001b[0;34m\u001b[0m\u001b[0m\n\u001b[0;32m----> 6\u001b[0;31m   \u001b[0mprompt\u001b[0m \u001b[0;34m=\u001b[0m \u001b[0minput\u001b[0m\u001b[0;34m(\u001b[0m\u001b[0;34m\"Esperando prompt:\"\u001b[0m\u001b[0;34m)\u001b[0m\u001b[0;34m\u001b[0m\u001b[0;34m\u001b[0m\u001b[0m\n\u001b[0m",
            "\u001b[0;32m/usr/local/lib/python3.10/dist-packages/ipykernel/kernelbase.py\u001b[0m in \u001b[0;36mraw_input\u001b[0;34m(self, prompt)\u001b[0m\n\u001b[1;32m    849\u001b[0m                 \u001b[0;34m\"raw_input was called, but this frontend does not support input requests.\"\u001b[0m\u001b[0;34m\u001b[0m\u001b[0;34m\u001b[0m\u001b[0m\n\u001b[1;32m    850\u001b[0m             )\n\u001b[0;32m--> 851\u001b[0;31m         return self._input_request(str(prompt),\n\u001b[0m\u001b[1;32m    852\u001b[0m             \u001b[0mself\u001b[0m\u001b[0;34m.\u001b[0m\u001b[0m_parent_ident\u001b[0m\u001b[0;34m,\u001b[0m\u001b[0;34m\u001b[0m\u001b[0;34m\u001b[0m\u001b[0m\n\u001b[1;32m    853\u001b[0m             \u001b[0mself\u001b[0m\u001b[0;34m.\u001b[0m\u001b[0m_parent_header\u001b[0m\u001b[0;34m,\u001b[0m\u001b[0;34m\u001b[0m\u001b[0;34m\u001b[0m\u001b[0m\n",
            "\u001b[0;32m/usr/local/lib/python3.10/dist-packages/ipykernel/kernelbase.py\u001b[0m in \u001b[0;36m_input_request\u001b[0;34m(self, prompt, ident, parent, password)\u001b[0m\n\u001b[1;32m    893\u001b[0m             \u001b[0;32mexcept\u001b[0m \u001b[0mKeyboardInterrupt\u001b[0m\u001b[0;34m:\u001b[0m\u001b[0;34m\u001b[0m\u001b[0;34m\u001b[0m\u001b[0m\n\u001b[1;32m    894\u001b[0m                 \u001b[0;31m# re-raise KeyboardInterrupt, to truncate traceback\u001b[0m\u001b[0;34m\u001b[0m\u001b[0;34m\u001b[0m\u001b[0m\n\u001b[0;32m--> 895\u001b[0;31m                 \u001b[0;32mraise\u001b[0m \u001b[0mKeyboardInterrupt\u001b[0m\u001b[0;34m(\u001b[0m\u001b[0;34m\"Interrupted by user\"\u001b[0m\u001b[0;34m)\u001b[0m \u001b[0;32mfrom\u001b[0m \u001b[0;32mNone\u001b[0m\u001b[0;34m\u001b[0m\u001b[0;34m\u001b[0m\u001b[0m\n\u001b[0m\u001b[1;32m    896\u001b[0m             \u001b[0;32mexcept\u001b[0m \u001b[0mException\u001b[0m \u001b[0;32mas\u001b[0m \u001b[0me\u001b[0m\u001b[0;34m:\u001b[0m\u001b[0;34m\u001b[0m\u001b[0;34m\u001b[0m\u001b[0m\n\u001b[1;32m    897\u001b[0m                 \u001b[0mself\u001b[0m\u001b[0;34m.\u001b[0m\u001b[0mlog\u001b[0m\u001b[0;34m.\u001b[0m\u001b[0mwarning\u001b[0m\u001b[0;34m(\u001b[0m\u001b[0;34m\"Invalid Message:\"\u001b[0m\u001b[0;34m,\u001b[0m \u001b[0mexc_info\u001b[0m\u001b[0;34m=\u001b[0m\u001b[0;32mTrue\u001b[0m\u001b[0;34m)\u001b[0m\u001b[0;34m\u001b[0m\u001b[0;34m\u001b[0m\u001b[0m\n",
            "\u001b[0;31mKeyboardInterrupt\u001b[0m: Interrupted by user"
          ]
        }
      ]
    }
  ]
}